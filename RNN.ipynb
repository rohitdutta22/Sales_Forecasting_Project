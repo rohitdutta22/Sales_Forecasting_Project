{
 "cells": [
  {
   "cell_type": "code",
   "execution_count": 1,
   "id": "3bc6295e",
   "metadata": {},
   "outputs": [],
   "source": [
    "import pandas as pd\n",
    "import numpy as np"
   ]
  },
  {
   "cell_type": "code",
   "execution_count": 2,
   "id": "3d467740",
   "metadata": {},
   "outputs": [],
   "source": [
    "data = pd.read_csv('new_merged_data.csv')"
   ]
  },
  {
   "cell_type": "code",
   "execution_count": 5,
   "id": "16ccc4c6",
   "metadata": {},
   "outputs": [
    {
     "data": {
      "text/html": [
       "<div>\n",
       "<style scoped>\n",
       "    .dataframe tbody tr th:only-of-type {\n",
       "        vertical-align: middle;\n",
       "    }\n",
       "\n",
       "    .dataframe tbody tr th {\n",
       "        vertical-align: top;\n",
       "    }\n",
       "\n",
       "    .dataframe thead th {\n",
       "        text-align: right;\n",
       "    }\n",
       "</style>\n",
       "<table border=\"1\" class=\"dataframe\">\n",
       "  <thead>\n",
       "    <tr style=\"text-align: right;\">\n",
       "      <th></th>\n",
       "      <th>id</th>\n",
       "      <th>date</th>\n",
       "      <th>store_nbr</th>\n",
       "      <th>family</th>\n",
       "      <th>sales</th>\n",
       "      <th>onpromotion</th>\n",
       "      <th>transactions</th>\n",
       "      <th>locale</th>\n",
       "      <th>locale_name</th>\n",
       "      <th>description</th>\n",
       "      <th>...</th>\n",
       "      <th>city</th>\n",
       "      <th>state</th>\n",
       "      <th>store_type</th>\n",
       "      <th>cluster</th>\n",
       "      <th>year</th>\n",
       "      <th>month</th>\n",
       "      <th>dayofmonth</th>\n",
       "      <th>dayofweek</th>\n",
       "      <th>dayname</th>\n",
       "      <th>Holiday_index</th>\n",
       "    </tr>\n",
       "  </thead>\n",
       "  <tbody>\n",
       "    <tr>\n",
       "      <th>6397</th>\n",
       "      <td>2999695</td>\n",
       "      <td>2017-08-15</td>\n",
       "      <td>25</td>\n",
       "      <td>POULTRY</td>\n",
       "      <td>172.517</td>\n",
       "      <td>0</td>\n",
       "      <td>849</td>\n",
       "      <td>Local</td>\n",
       "      <td>Riobamba</td>\n",
       "      <td>Fundacion de Riobamba</td>\n",
       "      <td>...</td>\n",
       "      <td>Salinas</td>\n",
       "      <td>Santa Elena</td>\n",
       "      <td>D</td>\n",
       "      <td>1</td>\n",
       "      <td>2017</td>\n",
       "      <td>8</td>\n",
       "      <td>15</td>\n",
       "      <td>1</td>\n",
       "      <td>Tuesday</td>\n",
       "      <td>0</td>\n",
       "    </tr>\n",
       "    <tr>\n",
       "      <th>6398</th>\n",
       "      <td>2999696</td>\n",
       "      <td>2017-08-15</td>\n",
       "      <td>25</td>\n",
       "      <td>PREPARED FOODS</td>\n",
       "      <td>25.468</td>\n",
       "      <td>0</td>\n",
       "      <td>849</td>\n",
       "      <td>Local</td>\n",
       "      <td>Riobamba</td>\n",
       "      <td>Fundacion de Riobamba</td>\n",
       "      <td>...</td>\n",
       "      <td>Salinas</td>\n",
       "      <td>Santa Elena</td>\n",
       "      <td>D</td>\n",
       "      <td>1</td>\n",
       "      <td>2017</td>\n",
       "      <td>8</td>\n",
       "      <td>15</td>\n",
       "      <td>1</td>\n",
       "      <td>Tuesday</td>\n",
       "      <td>0</td>\n",
       "    </tr>\n",
       "    <tr>\n",
       "      <th>6399</th>\n",
       "      <td>2999697</td>\n",
       "      <td>2017-08-15</td>\n",
       "      <td>25</td>\n",
       "      <td>PRODUCE</td>\n",
       "      <td>1269.174</td>\n",
       "      <td>2</td>\n",
       "      <td>849</td>\n",
       "      <td>Local</td>\n",
       "      <td>Riobamba</td>\n",
       "      <td>Fundacion de Riobamba</td>\n",
       "      <td>...</td>\n",
       "      <td>Salinas</td>\n",
       "      <td>Santa Elena</td>\n",
       "      <td>D</td>\n",
       "      <td>1</td>\n",
       "      <td>2017</td>\n",
       "      <td>8</td>\n",
       "      <td>15</td>\n",
       "      <td>1</td>\n",
       "      <td>Tuesday</td>\n",
       "      <td>0</td>\n",
       "    </tr>\n",
       "    <tr>\n",
       "      <th>6400</th>\n",
       "      <td>2999698</td>\n",
       "      <td>2017-08-15</td>\n",
       "      <td>25</td>\n",
       "      <td>SCHOOL AND OFFICE SUPPLIES</td>\n",
       "      <td>1.000</td>\n",
       "      <td>0</td>\n",
       "      <td>849</td>\n",
       "      <td>Local</td>\n",
       "      <td>Riobamba</td>\n",
       "      <td>Fundacion de Riobamba</td>\n",
       "      <td>...</td>\n",
       "      <td>Salinas</td>\n",
       "      <td>Santa Elena</td>\n",
       "      <td>D</td>\n",
       "      <td>1</td>\n",
       "      <td>2017</td>\n",
       "      <td>8</td>\n",
       "      <td>15</td>\n",
       "      <td>1</td>\n",
       "      <td>Tuesday</td>\n",
       "      <td>0</td>\n",
       "    </tr>\n",
       "    <tr>\n",
       "      <th>6401</th>\n",
       "      <td>2999699</td>\n",
       "      <td>2017-08-15</td>\n",
       "      <td>25</td>\n",
       "      <td>SEAFOOD</td>\n",
       "      <td>4.000</td>\n",
       "      <td>0</td>\n",
       "      <td>849</td>\n",
       "      <td>Local</td>\n",
       "      <td>Riobamba</td>\n",
       "      <td>Fundacion de Riobamba</td>\n",
       "      <td>...</td>\n",
       "      <td>Salinas</td>\n",
       "      <td>Santa Elena</td>\n",
       "      <td>D</td>\n",
       "      <td>1</td>\n",
       "      <td>2017</td>\n",
       "      <td>8</td>\n",
       "      <td>15</td>\n",
       "      <td>1</td>\n",
       "      <td>Tuesday</td>\n",
       "      <td>0</td>\n",
       "    </tr>\n",
       "  </tbody>\n",
       "</table>\n",
       "<p>5 rows × 22 columns</p>\n",
       "</div>"
      ],
      "text/plain": [
       "           id        date  store_nbr                      family     sales  \\\n",
       "6397  2999695  2017-08-15         25                     POULTRY   172.517   \n",
       "6398  2999696  2017-08-15         25              PREPARED FOODS    25.468   \n",
       "6399  2999697  2017-08-15         25                     PRODUCE  1269.174   \n",
       "6400  2999698  2017-08-15         25  SCHOOL AND OFFICE SUPPLIES     1.000   \n",
       "6401  2999699  2017-08-15         25                     SEAFOOD     4.000   \n",
       "\n",
       "      onpromotion  transactions locale locale_name            description  \\\n",
       "6397            0           849  Local    Riobamba  Fundacion de Riobamba   \n",
       "6398            0           849  Local    Riobamba  Fundacion de Riobamba   \n",
       "6399            2           849  Local    Riobamba  Fundacion de Riobamba   \n",
       "6400            0           849  Local    Riobamba  Fundacion de Riobamba   \n",
       "6401            0           849  Local    Riobamba  Fundacion de Riobamba   \n",
       "\n",
       "      ...     city        state store_type cluster  year  month  dayofmonth  \\\n",
       "6397  ...  Salinas  Santa Elena          D       1  2017      8          15   \n",
       "6398  ...  Salinas  Santa Elena          D       1  2017      8          15   \n",
       "6399  ...  Salinas  Santa Elena          D       1  2017      8          15   \n",
       "6400  ...  Salinas  Santa Elena          D       1  2017      8          15   \n",
       "6401  ...  Salinas  Santa Elena          D       1  2017      8          15   \n",
       "\n",
       "      dayofweek  dayname  Holiday_index  \n",
       "6397          1  Tuesday              0  \n",
       "6398          1  Tuesday              0  \n",
       "6399          1  Tuesday              0  \n",
       "6400          1  Tuesday              0  \n",
       "6401          1  Tuesday              0  \n",
       "\n",
       "[5 rows x 22 columns]"
      ]
     },
     "execution_count": 5,
     "metadata": {},
     "output_type": "execute_result"
    }
   ],
   "source": [
    "data.tail()"
   ]
  },
  {
   "cell_type": "code",
   "execution_count": 4,
   "id": "25df5f35",
   "metadata": {},
   "outputs": [
    {
     "data": {
      "text/plain": [
       "(6402, 22)"
      ]
     },
     "execution_count": 4,
     "metadata": {},
     "output_type": "execute_result"
    }
   ],
   "source": [
    "data.shape"
   ]
  },
  {
   "cell_type": "code",
   "execution_count": 7,
   "id": "50ef6d97",
   "metadata": {},
   "outputs": [],
   "source": [
    "data = data.drop(['id'], axis = 1)"
   ]
  },
  {
   "cell_type": "code",
   "execution_count": 9,
   "id": "42f759c3",
   "metadata": {},
   "outputs": [],
   "source": [
    "data['id'] = range(1, 6403)"
   ]
  },
  {
   "cell_type": "code",
   "execution_count": 10,
   "id": "c7991bec",
   "metadata": {},
   "outputs": [
    {
     "data": {
      "text/html": [
       "<div>\n",
       "<style scoped>\n",
       "    .dataframe tbody tr th:only-of-type {\n",
       "        vertical-align: middle;\n",
       "    }\n",
       "\n",
       "    .dataframe tbody tr th {\n",
       "        vertical-align: top;\n",
       "    }\n",
       "\n",
       "    .dataframe thead th {\n",
       "        text-align: right;\n",
       "    }\n",
       "</style>\n",
       "<table border=\"1\" class=\"dataframe\">\n",
       "  <thead>\n",
       "    <tr style=\"text-align: right;\">\n",
       "      <th></th>\n",
       "      <th>date</th>\n",
       "      <th>store_nbr</th>\n",
       "      <th>family</th>\n",
       "      <th>sales</th>\n",
       "      <th>onpromotion</th>\n",
       "      <th>transactions</th>\n",
       "      <th>locale</th>\n",
       "      <th>locale_name</th>\n",
       "      <th>description</th>\n",
       "      <th>transferred</th>\n",
       "      <th>...</th>\n",
       "      <th>state</th>\n",
       "      <th>store_type</th>\n",
       "      <th>cluster</th>\n",
       "      <th>year</th>\n",
       "      <th>month</th>\n",
       "      <th>dayofmonth</th>\n",
       "      <th>dayofweek</th>\n",
       "      <th>dayname</th>\n",
       "      <th>Holiday_index</th>\n",
       "      <th>id</th>\n",
       "    </tr>\n",
       "  </thead>\n",
       "  <tbody>\n",
       "    <tr>\n",
       "      <th>0</th>\n",
       "      <td>2013-01-01</td>\n",
       "      <td>25</td>\n",
       "      <td>AUTOMOTIVE</td>\n",
       "      <td>0.0</td>\n",
       "      <td>0</td>\n",
       "      <td>770</td>\n",
       "      <td>National</td>\n",
       "      <td>Ecuador</td>\n",
       "      <td>Primer dia del ano</td>\n",
       "      <td>False</td>\n",
       "      <td>...</td>\n",
       "      <td>Santa Elena</td>\n",
       "      <td>D</td>\n",
       "      <td>1</td>\n",
       "      <td>2013</td>\n",
       "      <td>1</td>\n",
       "      <td>1</td>\n",
       "      <td>1</td>\n",
       "      <td>Tuesday</td>\n",
       "      <td>1</td>\n",
       "      <td>1</td>\n",
       "    </tr>\n",
       "    <tr>\n",
       "      <th>1</th>\n",
       "      <td>2013-01-01</td>\n",
       "      <td>25</td>\n",
       "      <td>BABY CARE</td>\n",
       "      <td>0.0</td>\n",
       "      <td>0</td>\n",
       "      <td>770</td>\n",
       "      <td>National</td>\n",
       "      <td>Ecuador</td>\n",
       "      <td>Primer dia del ano</td>\n",
       "      <td>False</td>\n",
       "      <td>...</td>\n",
       "      <td>Santa Elena</td>\n",
       "      <td>D</td>\n",
       "      <td>1</td>\n",
       "      <td>2013</td>\n",
       "      <td>1</td>\n",
       "      <td>1</td>\n",
       "      <td>1</td>\n",
       "      <td>Tuesday</td>\n",
       "      <td>1</td>\n",
       "      <td>2</td>\n",
       "    </tr>\n",
       "    <tr>\n",
       "      <th>2</th>\n",
       "      <td>2013-01-01</td>\n",
       "      <td>25</td>\n",
       "      <td>BEAUTY</td>\n",
       "      <td>2.0</td>\n",
       "      <td>0</td>\n",
       "      <td>770</td>\n",
       "      <td>National</td>\n",
       "      <td>Ecuador</td>\n",
       "      <td>Primer dia del ano</td>\n",
       "      <td>False</td>\n",
       "      <td>...</td>\n",
       "      <td>Santa Elena</td>\n",
       "      <td>D</td>\n",
       "      <td>1</td>\n",
       "      <td>2013</td>\n",
       "      <td>1</td>\n",
       "      <td>1</td>\n",
       "      <td>1</td>\n",
       "      <td>Tuesday</td>\n",
       "      <td>1</td>\n",
       "      <td>3</td>\n",
       "    </tr>\n",
       "    <tr>\n",
       "      <th>3</th>\n",
       "      <td>2013-01-01</td>\n",
       "      <td>25</td>\n",
       "      <td>BEVERAGES</td>\n",
       "      <td>810.0</td>\n",
       "      <td>0</td>\n",
       "      <td>770</td>\n",
       "      <td>National</td>\n",
       "      <td>Ecuador</td>\n",
       "      <td>Primer dia del ano</td>\n",
       "      <td>False</td>\n",
       "      <td>...</td>\n",
       "      <td>Santa Elena</td>\n",
       "      <td>D</td>\n",
       "      <td>1</td>\n",
       "      <td>2013</td>\n",
       "      <td>1</td>\n",
       "      <td>1</td>\n",
       "      <td>1</td>\n",
       "      <td>Tuesday</td>\n",
       "      <td>1</td>\n",
       "      <td>4</td>\n",
       "    </tr>\n",
       "    <tr>\n",
       "      <th>4</th>\n",
       "      <td>2013-01-01</td>\n",
       "      <td>25</td>\n",
       "      <td>BOOKS</td>\n",
       "      <td>0.0</td>\n",
       "      <td>0</td>\n",
       "      <td>770</td>\n",
       "      <td>National</td>\n",
       "      <td>Ecuador</td>\n",
       "      <td>Primer dia del ano</td>\n",
       "      <td>False</td>\n",
       "      <td>...</td>\n",
       "      <td>Santa Elena</td>\n",
       "      <td>D</td>\n",
       "      <td>1</td>\n",
       "      <td>2013</td>\n",
       "      <td>1</td>\n",
       "      <td>1</td>\n",
       "      <td>1</td>\n",
       "      <td>Tuesday</td>\n",
       "      <td>1</td>\n",
       "      <td>5</td>\n",
       "    </tr>\n",
       "  </tbody>\n",
       "</table>\n",
       "<p>5 rows × 22 columns</p>\n",
       "</div>"
      ],
      "text/plain": [
       "         date  store_nbr      family  sales  onpromotion  transactions  \\\n",
       "0  2013-01-01         25  AUTOMOTIVE    0.0            0           770   \n",
       "1  2013-01-01         25   BABY CARE    0.0            0           770   \n",
       "2  2013-01-01         25      BEAUTY    2.0            0           770   \n",
       "3  2013-01-01         25   BEVERAGES  810.0            0           770   \n",
       "4  2013-01-01         25       BOOKS    0.0            0           770   \n",
       "\n",
       "     locale locale_name         description  transferred  ...        state  \\\n",
       "0  National     Ecuador  Primer dia del ano        False  ...  Santa Elena   \n",
       "1  National     Ecuador  Primer dia del ano        False  ...  Santa Elena   \n",
       "2  National     Ecuador  Primer dia del ano        False  ...  Santa Elena   \n",
       "3  National     Ecuador  Primer dia del ano        False  ...  Santa Elena   \n",
       "4  National     Ecuador  Primer dia del ano        False  ...  Santa Elena   \n",
       "\n",
       "  store_type cluster  year  month  dayofmonth  dayofweek  dayname  \\\n",
       "0          D       1  2013      1           1          1  Tuesday   \n",
       "1          D       1  2013      1           1          1  Tuesday   \n",
       "2          D       1  2013      1           1          1  Tuesday   \n",
       "3          D       1  2013      1           1          1  Tuesday   \n",
       "4          D       1  2013      1           1          1  Tuesday   \n",
       "\n",
       "   Holiday_index id  \n",
       "0              1  1  \n",
       "1              1  2  \n",
       "2              1  3  \n",
       "3              1  4  \n",
       "4              1  5  \n",
       "\n",
       "[5 rows x 22 columns]"
      ]
     },
     "execution_count": 10,
     "metadata": {},
     "output_type": "execute_result"
    }
   ],
   "source": [
    "data.head()"
   ]
  },
  {
   "cell_type": "code",
   "execution_count": 11,
   "id": "8863d49f",
   "metadata": {},
   "outputs": [],
   "source": [
    "df1 = data.reset_index()['sales']"
   ]
  },
  {
   "cell_type": "code",
   "execution_count": 12,
   "id": "27d21a13",
   "metadata": {},
   "outputs": [
    {
     "data": {
      "text/plain": [
       "0      0.0\n",
       "1      0.0\n",
       "2      2.0\n",
       "3    810.0\n",
       "4      0.0\n",
       "Name: sales, dtype: float64"
      ]
     },
     "execution_count": 12,
     "metadata": {},
     "output_type": "execute_result"
    }
   ],
   "source": [
    "df1.head()"
   ]
  },
  {
   "cell_type": "code",
   "execution_count": 13,
   "id": "9a0724d3",
   "metadata": {},
   "outputs": [
    {
     "data": {
      "text/plain": [
       "[<matplotlib.lines.Line2D at 0x2093f943430>]"
      ]
     },
     "execution_count": 13,
     "metadata": {},
     "output_type": "execute_result"
    },
    {
     "data": {
      "image/png": "[encoded data removed]",
      "text/plain": [
       "<Figure size 640x480 with 1 Axes>"
      ]
     },
     "metadata": {},
     "output_type": "display_data"
    }
   ],
   "source": [
    "import matplotlib.pyplot as plt\n",
    "plt.plot(df1)"
   ]
  },
  {
   "cell_type": "markdown",
   "id": "8a2e0f6d",
   "metadata": {},
   "source": [
    "### Scaling the Data"
   ]
  },
  {
   "cell_type": "code",
   "execution_count": 14,
   "id": "835a3fcf",
   "metadata": {},
   "outputs": [],
   "source": [
    "from sklearn.preprocessing import MinMaxScaler\n",
    "scaler=MinMaxScaler(feature_range=(0,1))\n",
    "df1=scaler.fit_transform(np.array(df1).reshape(-1,1))"
   ]
  },
  {
   "cell_type": "code",
   "execution_count": 15,
   "id": "2fe4115b",
   "metadata": {},
   "outputs": [
    {
     "data": {
      "text/plain": [
       "array([[0.00000000e+00],\n",
       "       [0.00000000e+00],\n",
       "       [1.95274360e-04],\n",
       "       ...,\n",
       "       [1.23918571e-01],\n",
       "       [9.76371802e-05],\n",
       "       [3.90548721e-04]])"
      ]
     },
     "execution_count": 15,
     "metadata": {},
     "output_type": "execute_result"
    }
   ],
   "source": [
    "df1"
   ]
  },
  {
   "cell_type": "markdown",
   "id": "d1ecf44f",
   "metadata": {},
   "source": [
    "### Train-Test Split"
   ]
  },
  {
   "cell_type": "code",
   "execution_count": 18,
   "id": "4b6084f5",
   "metadata": {},
   "outputs": [],
   "source": [
    "##splitting dataset into train and test split\n",
    "training_size=int(len(df1)*0.70)\n",
    "test_size=len(df1)-training_size\n",
    "train_data,test_data=df1[0:training_size,:],df1[training_size:len(df1),:1]"
   ]
  },
  {
   "cell_type": "code",
   "execution_count": 19,
   "id": "2b46ad07",
   "metadata": {},
   "outputs": [
    {
     "data": {
      "text/plain": [
       "(4481, 1921)"
      ]
     },
     "execution_count": 19,
     "metadata": {},
     "output_type": "execute_result"
    }
   ],
   "source": [
    "training_size, test_size"
   ]
  },
  {
   "cell_type": "code",
   "execution_count": 22,
   "id": "574cfe4e",
   "metadata": {},
   "outputs": [],
   "source": [
    "# convert an array of values into a dataset matrix\n",
    "def create_dataset(dataset, time_step=1):\n",
    "\tdataX, dataY = [], []\n",
    "\tfor i in range(len(dataset)-time_step-1):\n",
    "\t\ta = dataset[i:(i+time_step), 0]   ###i=0, 0,1,2,3-----99   100 \n",
    "\t\tdataX.append(a)\n",
    "\t\tdataY.append(dataset[i + time_step, 0])\n",
    "\treturn np.array(dataX), np.array(dataY)"
   ]
  },
  {
   "cell_type": "code",
   "execution_count": 23,
   "id": "ff234ec1",
   "metadata": {},
   "outputs": [],
   "source": [
    "# reshape into X=t,t+1,t+2,t+3 and Y=t+4\n",
    "time_step = 100\n",
    "X_train, y_train = create_dataset(train_data, time_step)\n",
    "X_test, ytest = create_dataset(test_data, time_step)"
   ]
  },
  {
   "cell_type": "code",
   "execution_count": 25,
   "id": "d4e00791",
   "metadata": {},
   "outputs": [
    {
     "name": "stdout",
     "output_type": "stream",
     "text": [
      "(4380, 100)\n",
      "(4380,)\n"
     ]
    },
    {
     "data": {
      "text/plain": [
       "(None, None)"
      ]
     },
     "execution_count": 25,
     "metadata": {},
     "output_type": "execute_result"
    }
   ],
   "source": [
    "print(X_train.shape), print(y_train.shape)"
   ]
  },
  {
   "cell_type": "code",
   "execution_count": 26,
   "id": "2fade7f1",
   "metadata": {},
   "outputs": [
    {
     "name": "stdout",
     "output_type": "stream",
     "text": [
      "(1820, 100)\n",
      "(1820,)\n"
     ]
    },
    {
     "data": {
      "text/plain": [
       "(None, None)"
      ]
     },
     "execution_count": 26,
     "metadata": {},
     "output_type": "execute_result"
    }
   ],
   "source": [
    "print(X_test.shape), print(ytest.shape)"
   ]
  },
  {
   "cell_type": "code",
   "execution_count": 27,
   "id": "eb4541ba",
   "metadata": {},
   "outputs": [],
   "source": [
    "# reshape input to be [samples, time steps, features] which is required for LSTM\n",
    "X_train =X_train.reshape(X_train.shape[0],X_train.shape[1] , 1)\n",
    "X_test = X_test.reshape(X_test.shape[0],X_test.shape[1] , 1)"
   ]
  },
  {
   "cell_type": "code",
   "execution_count": 29,
   "id": "d215290b",
   "metadata": {},
   "outputs": [
    {
     "data": {
      "text/plain": [
       "(4380, 100, 1)"
      ]
     },
     "execution_count": 29,
     "metadata": {},
     "output_type": "execute_result"
    }
   ],
   "source": [
    "X_train.shape"
   ]
  },
  {
   "cell_type": "markdown",
   "id": "2c4bec6f",
   "metadata": {},
   "source": [
    "### Building the LSTM Model"
   ]
  },
  {
   "cell_type": "code",
   "execution_count": 30,
   "id": "7cbecbc8",
   "metadata": {},
   "outputs": [],
   "source": [
    "### Create the Stacked LSTM model\n",
    "from tensorflow.keras.models import Sequential\n",
    "from tensorflow.keras.layers import Dense\n",
    "from tensorflow.keras.layers import LSTM"
   ]
  },
  {
   "cell_type": "code",
   "execution_count": 31,
   "id": "9ffef44e",
   "metadata": {},
   "outputs": [],
   "source": [
    "model=Sequential()\n",
    "model.add(LSTM(50,return_sequences=True,input_shape=(100,1)))\n",
    "model.add(LSTM(50,return_sequences=True))\n",
    "model.add(LSTM(50))\n",
    "model.add(Dense(1))\n",
    "model.compile(loss='mean_squared_error',optimizer='adam')"
   ]
  },
  {
   "cell_type": "code",
   "execution_count": 32,
   "id": "f96672d3",
   "metadata": {},
   "outputs": [
    {
     "name": "stdout",
     "output_type": "stream",
     "text": [
      "Epoch 1/100\n",
      "69/69 [==============================] - 35s 356ms/step - loss: 0.0046 - val_loss: 0.0073\n",
      "Epoch 2/100\n",
      "69/69 [==============================] - 22s 324ms/step - loss: 0.0046 - val_loss: 0.0073\n",
      "Epoch 3/100\n",
      "69/69 [==============================] - 23s 328ms/step - loss: 0.0046 - val_loss: 0.0073\n",
      "Epoch 4/100\n",
      "69/69 [==============================] - 22s 326ms/step - loss: 0.0045 - val_loss: 0.0073\n",
      "Epoch 5/100\n",
      "69/69 [==============================] - 22s 322ms/step - loss: 0.0045 - val_loss: 0.0072\n",
      "Epoch 6/100\n",
      "69/69 [==============================] - 22s 320ms/step - loss: 0.0045 - val_loss: 0.0073\n",
      "Epoch 7/100\n",
      "69/69 [==============================] - 22s 324ms/step - loss: 0.0045 - val_loss: 0.0072\n",
      "Epoch 8/100\n",
      "69/69 [==============================] - 22s 327ms/step - loss: 0.0044 - val_loss: 0.0071\n",
      "Epoch 9/100\n",
      "69/69 [==============================] - 22s 323ms/step - loss: 0.0044 - val_loss: 0.0071\n",
      "Epoch 10/100\n",
      "69/69 [==============================] - 22s 325ms/step - loss: 0.0044 - val_loss: 0.0070\n",
      "Epoch 11/100\n",
      "69/69 [==============================] - 22s 326ms/step - loss: 0.0044 - val_loss: 0.0070\n",
      "Epoch 12/100\n",
      "69/69 [==============================] - 22s 324ms/step - loss: 0.0044 - val_loss: 0.0071\n",
      "Epoch 13/100\n",
      "69/69 [==============================] - 22s 325ms/step - loss: 0.0044 - val_loss: 0.0070\n",
      "Epoch 14/100\n",
      "69/69 [==============================] - 23s 327ms/step - loss: 0.0044 - val_loss: 0.0072\n",
      "Epoch 15/100\n",
      "69/69 [==============================] - 22s 325ms/step - loss: 0.0044 - val_loss: 0.0071\n",
      "Epoch 16/100\n",
      "69/69 [==============================] - 22s 324ms/step - loss: 0.0043 - val_loss: 0.0068\n",
      "Epoch 17/100\n",
      "69/69 [==============================] - 22s 324ms/step - loss: 0.0043 - val_loss: 0.0070\n",
      "Epoch 18/100\n",
      "69/69 [==============================] - 22s 321ms/step - loss: 0.0043 - val_loss: 0.0070\n",
      "Epoch 19/100\n",
      "69/69 [==============================] - 23s 328ms/step - loss: 0.0043 - val_loss: 0.0069\n",
      "Epoch 20/100\n",
      "69/69 [==============================] - 22s 324ms/step - loss: 0.0043 - val_loss: 0.0070\n",
      "Epoch 21/100\n",
      "69/69 [==============================] - 22s 324ms/step - loss: 0.0043 - val_loss: 0.0068\n",
      "Epoch 22/100\n",
      "69/69 [==============================] - 22s 324ms/step - loss: 0.0043 - val_loss: 0.0068\n",
      "Epoch 23/100\n",
      "69/69 [==============================] - 22s 321ms/step - loss: 0.0043 - val_loss: 0.0068\n",
      "Epoch 24/100\n",
      "69/69 [==============================] - 22s 320ms/step - loss: 0.0044 - val_loss: 0.0068\n",
      "Epoch 25/100\n",
      "69/69 [==============================] - 22s 322ms/step - loss: 0.0044 - val_loss: 0.0069\n",
      "Epoch 26/100\n",
      "69/69 [==============================] - 22s 325ms/step - loss: 0.0043 - val_loss: 0.0068\n",
      "Epoch 27/100\n",
      "69/69 [==============================] - 22s 321ms/step - loss: 0.0042 - val_loss: 0.0067\n",
      "Epoch 28/100\n",
      "69/69 [==============================] - 22s 323ms/step - loss: 0.0042 - val_loss: 0.0068\n",
      "Epoch 29/100\n",
      "69/69 [==============================] - 22s 319ms/step - loss: 0.0042 - val_loss: 0.0067\n",
      "Epoch 30/100\n",
      "69/69 [==============================] - 22s 323ms/step - loss: 0.0042 - val_loss: 0.0068\n",
      "Epoch 31/100\n",
      "69/69 [==============================] - 22s 322ms/step - loss: 0.0042 - val_loss: 0.0068\n",
      "Epoch 32/100\n",
      "69/69 [==============================] - 22s 324ms/step - loss: 0.0042 - val_loss: 0.0068\n",
      "Epoch 33/100\n",
      "69/69 [==============================] - 22s 322ms/step - loss: 0.0042 - val_loss: 0.0066\n",
      "Epoch 34/100\n",
      "69/69 [==============================] - 22s 314ms/step - loss: 0.0042 - val_loss: 0.0066\n",
      "Epoch 35/100\n",
      "69/69 [==============================] - 22s 322ms/step - loss: 0.0041 - val_loss: 0.0066\n",
      "Epoch 36/100\n",
      "69/69 [==============================] - 22s 322ms/step - loss: 0.0041 - val_loss: 0.0066\n",
      "Epoch 37/100\n",
      "69/69 [==============================] - 22s 324ms/step - loss: 0.0041 - val_loss: 0.0066\n",
      "Epoch 38/100\n",
      "69/69 [==============================] - 22s 320ms/step - loss: 0.0042 - val_loss: 0.0065\n",
      "Epoch 39/100\n",
      "69/69 [==============================] - 22s 321ms/step - loss: 0.0041 - val_loss: 0.0064\n",
      "Epoch 40/100\n",
      "69/69 [==============================] - 23s 328ms/step - loss: 0.0040 - val_loss: 0.0069\n",
      "Epoch 41/100\n",
      "69/69 [==============================] - 21s 300ms/step - loss: 0.0040 - val_loss: 0.0064\n",
      "Epoch 42/100\n",
      "69/69 [==============================] - 22s 313ms/step - loss: 0.0041 - val_loss: 0.0065\n",
      "Epoch 43/100\n",
      "69/69 [==============================] - 23s 341ms/step - loss: 0.0039 - val_loss: 0.0066\n",
      "Epoch 44/100\n",
      "69/69 [==============================] - 23s 337ms/step - loss: 0.0039 - val_loss: 0.0063\n",
      "Epoch 45/100\n",
      "69/69 [==============================] - 23s 336ms/step - loss: 0.0038 - val_loss: 0.0063\n",
      "Epoch 46/100\n",
      "69/69 [==============================] - 23s 335ms/step - loss: 0.0040 - val_loss: 0.0064\n",
      "Epoch 47/100\n",
      "69/69 [==============================] - 23s 333ms/step - loss: 0.0039 - val_loss: 0.0061\n",
      "Epoch 48/100\n",
      "69/69 [==============================] - 23s 336ms/step - loss: 0.0037 - val_loss: 0.0059\n",
      "Epoch 49/100\n",
      "69/69 [==============================] - 23s 334ms/step - loss: 0.0036 - val_loss: 0.0061\n",
      "Epoch 50/100\n",
      "69/69 [==============================] - 23s 337ms/step - loss: 0.0037 - val_loss: 0.0058\n",
      "Epoch 51/100\n",
      "69/69 [==============================] - 23s 335ms/step - loss: 0.0036 - val_loss: 0.0060\n",
      "Epoch 52/100\n",
      "69/69 [==============================] - 23s 336ms/step - loss: 0.0036 - val_loss: 0.0058\n",
      "Epoch 53/100\n",
      "69/69 [==============================] - 23s 333ms/step - loss: 0.0038 - val_loss: 0.0062\n",
      "Epoch 54/100\n",
      "69/69 [==============================] - 23s 337ms/step - loss: 0.0036 - val_loss: 0.0055\n",
      "Epoch 55/100\n",
      "69/69 [==============================] - 23s 337ms/step - loss: 0.0034 - val_loss: 0.0054\n",
      "Epoch 56/100\n",
      "69/69 [==============================] - 23s 337ms/step - loss: 0.0034 - val_loss: 0.0056\n",
      "Epoch 57/100\n",
      "69/69 [==============================] - 23s 338ms/step - loss: 0.0033 - val_loss: 0.0056\n",
      "Epoch 58/100\n",
      "69/69 [==============================] - 23s 337ms/step - loss: 0.0031 - val_loss: 0.0051\n",
      "Epoch 59/100\n",
      "69/69 [==============================] - 23s 335ms/step - loss: 0.0032 - val_loss: 0.0052\n",
      "Epoch 60/100\n",
      "69/69 [==============================] - 23s 336ms/step - loss: 0.0031 - val_loss: 0.0050\n",
      "Epoch 61/100\n",
      "69/69 [==============================] - 2068s 30s/step - loss: 0.0030 - val_loss: 0.0047\n",
      "Epoch 62/100\n",
      "69/69 [==============================] - 18s 254ms/step - loss: 0.0030 - val_loss: 0.0056\n",
      "Epoch 63/100\n",
      "69/69 [==============================] - 14s 197ms/step - loss: 0.0030 - val_loss: 0.0046\n",
      "Epoch 64/100\n",
      "69/69 [==============================] - 13s 185ms/step - loss: 0.0028 - val_loss: 0.0053\n",
      "Epoch 65/100\n",
      "69/69 [==============================] - 12s 180ms/step - loss: 0.0026 - val_loss: 0.0043\n",
      "Epoch 66/100\n",
      "69/69 [==============================] - 13s 189ms/step - loss: 0.0028 - val_loss: 0.0049\n",
      "Epoch 67/100\n",
      "69/69 [==============================] - 13s 183ms/step - loss: 0.0031 - val_loss: 0.0043\n",
      "Epoch 68/100\n",
      "69/69 [==============================] - 17s 254ms/step - loss: 0.0025 - val_loss: 0.0039\n",
      "Epoch 69/100\n",
      "69/69 [==============================] - 22s 314ms/step - loss: 0.0026 - val_loss: 0.0040\n",
      "Epoch 70/100\n",
      "69/69 [==============================] - 22s 319ms/step - loss: 0.0025 - val_loss: 0.0037\n",
      "Epoch 71/100\n",
      "69/69 [==============================] - 22s 317ms/step - loss: 0.0023 - val_loss: 0.0037\n",
      "Epoch 72/100\n",
      "69/69 [==============================] - 21s 299ms/step - loss: 0.0024 - val_loss: 0.0050\n",
      "Epoch 73/100\n",
      "69/69 [==============================] - 22s 319ms/step - loss: 0.0025 - val_loss: 0.0037\n",
      "Epoch 74/100\n",
      "69/69 [==============================] - 22s 315ms/step - loss: 0.0022 - val_loss: 0.0040\n",
      "Epoch 75/100\n",
      "69/69 [==============================] - 22s 321ms/step - loss: 0.0026 - val_loss: 0.0039\n",
      "Epoch 76/100\n",
      "69/69 [==============================] - 22s 319ms/step - loss: 0.0021 - val_loss: 0.0037\n",
      "Epoch 77/100\n",
      "69/69 [==============================] - 22s 320ms/step - loss: 0.0022 - val_loss: 0.0036\n",
      "Epoch 78/100\n",
      "69/69 [==============================] - 22s 317ms/step - loss: 0.0021 - val_loss: 0.0039\n",
      "Epoch 79/100\n",
      "69/69 [==============================] - 22s 317ms/step - loss: 0.0019 - val_loss: 0.0035\n",
      "Epoch 80/100\n"
     ]
    },
    {
     "name": "stdout",
     "output_type": "stream",
     "text": [
      "69/69 [==============================] - 22s 323ms/step - loss: 0.0020 - val_loss: 0.0035\n",
      "Epoch 81/100\n",
      "69/69 [==============================] - 22s 326ms/step - loss: 0.0019 - val_loss: 0.0031\n",
      "Epoch 82/100\n",
      "69/69 [==============================] - 22s 327ms/step - loss: 0.0018 - val_loss: 0.0033\n",
      "Epoch 83/100\n",
      "69/69 [==============================] - 22s 325ms/step - loss: 0.0020 - val_loss: 0.0040\n",
      "Epoch 84/100\n",
      "69/69 [==============================] - 23s 327ms/step - loss: 0.0020 - val_loss: 0.0033\n",
      "Epoch 85/100\n",
      "69/69 [==============================] - 22s 325ms/step - loss: 0.0020 - val_loss: 0.0040\n",
      "Epoch 86/100\n",
      "69/69 [==============================] - 22s 323ms/step - loss: 0.0019 - val_loss: 0.0031\n",
      "Epoch 87/100\n",
      "69/69 [==============================] - 22s 324ms/step - loss: 0.0017 - val_loss: 0.0031\n",
      "Epoch 88/100\n",
      "69/69 [==============================] - 22s 316ms/step - loss: 0.0018 - val_loss: 0.0032\n",
      "Epoch 89/100\n",
      "69/69 [==============================] - 22s 313ms/step - loss: 0.0018 - val_loss: 0.0042\n",
      "Epoch 90/100\n",
      "69/69 [==============================] - 22s 323ms/step - loss: 0.0016 - val_loss: 0.0030\n",
      "Epoch 91/100\n",
      "69/69 [==============================] - 22s 317ms/step - loss: 0.0017 - val_loss: 0.0032\n",
      "Epoch 92/100\n",
      "69/69 [==============================] - 22s 324ms/step - loss: 0.0016 - val_loss: 0.0031\n",
      "Epoch 93/100\n",
      "69/69 [==============================] - 22s 326ms/step - loss: 0.0016 - val_loss: 0.0032\n",
      "Epoch 94/100\n",
      "69/69 [==============================] - 22s 325ms/step - loss: 0.0016 - val_loss: 0.0027\n",
      "Epoch 95/100\n",
      "69/69 [==============================] - 22s 324ms/step - loss: 0.0014 - val_loss: 0.0029\n",
      "Epoch 96/100\n",
      "69/69 [==============================] - 22s 319ms/step - loss: 0.0014 - val_loss: 0.0027\n",
      "Epoch 97/100\n",
      "69/69 [==============================] - 22s 323ms/step - loss: 0.0014 - val_loss: 0.0027\n",
      "Epoch 98/100\n",
      "69/69 [==============================] - 22s 325ms/step - loss: 0.0014 - val_loss: 0.0027\n",
      "Epoch 99/100\n",
      "69/69 [==============================] - 22s 321ms/step - loss: 0.0015 - val_loss: 0.0032\n",
      "Epoch 100/100\n",
      "69/69 [==============================] - 22s 320ms/step - loss: 0.0016 - val_loss: 0.0040\n"
     ]
    },
    {
     "data": {
      "text/plain": [
       "<keras.src.callbacks.History at 0x2094bda1d90>"
      ]
     },
     "execution_count": 32,
     "metadata": {},
     "output_type": "execute_result"
    }
   ],
   "source": [
    "model.fit(X_train,y_train,validation_data=(X_test,ytest),epochs=100,batch_size=64,verbose=1)"
   ]
  },
  {
   "cell_type": "code",
   "execution_count": 33,
   "id": "0957fedd",
   "metadata": {},
   "outputs": [
    {
     "name": "stdout",
     "output_type": "stream",
     "text": [
      "137/137 [==============================] - 12s 71ms/step\n",
      "57/57 [==============================] - 4s 68ms/step\n"
     ]
    }
   ],
   "source": [
    "### Lets Do the prediction and check performance metrics\n",
    "train_predict=model.predict(X_train)\n",
    "test_predict=model.predict(X_test)"
   ]
  },
  {
   "cell_type": "code",
   "execution_count": 34,
   "id": "191ecda1",
   "metadata": {},
   "outputs": [],
   "source": [
    "##Transformback to original form\n",
    "train_predict=scaler.inverse_transform(train_predict)\n",
    "test_predict=scaler.inverse_transform(test_predict)"
   ]
  },
  {
   "cell_type": "code",
   "execution_count": 35,
   "id": "a1aa6f28",
   "metadata": {},
   "outputs": [
    {
     "data": {
      "text/plain": [
       "676.614562297305"
      ]
     },
     "execution_count": 35,
     "metadata": {},
     "output_type": "execute_result"
    }
   ],
   "source": [
    "### Calculate RMSE performance metrics\n",
    "import math\n",
    "from sklearn.metrics import mean_squared_error\n",
    "math.sqrt(mean_squared_error(y_train,train_predict))"
   ]
  },
  {
   "cell_type": "code",
   "execution_count": 36,
   "id": "4fff321e",
   "metadata": {},
   "outputs": [
    {
     "data": {
      "text/plain": [
       "913.7005305086931"
      ]
     },
     "execution_count": 36,
     "metadata": {},
     "output_type": "execute_result"
    }
   ],
   "source": [
    "### Test Data RMSE\n",
    "math.sqrt(mean_squared_error(ytest,test_predict))"
   ]
  },
  {
   "cell_type": "code",
   "execution_count": 38,
   "id": "10d79b09",
   "metadata": {},
   "outputs": [
    {
     "data": {
      "image/png": "[encoded data removed]",
      "text/plain": [
       "<Figure size 640x480 with 1 Axes>"
      ]
     },
     "metadata": {},
     "output_type": "display_data"
    }
   ],
   "source": [
    "### Plotting \n",
    "# shift train predictions for plotting\n",
    "look_back=100\n",
    "trainPredictPlot = np.empty_like(df1)\n",
    "trainPredictPlot[:, :] = np.nan\n",
    "trainPredictPlot[look_back:len(train_predict)+look_back, :] = train_predict\n",
    "# shift test predictions for plotting\n",
    "testPredictPlot = np.empty_like(df1)\n",
    "testPredictPlot[:, :] = np.nan\n",
    "testPredictPlot[len(train_predict)+(look_back*2)+1:len(df1)-1, :] = test_predict\n",
    "# plot baseline and predictions\n",
    "plt.plot(scaler.inverse_transform(df1))\n",
    "plt.plot(trainPredictPlot)\n",
    "plt.plot(testPredictPlot)\n",
    "plt.show()"
   ]
  },
  {
   "cell_type": "code",
   "execution_count": null,
   "id": "d48747b0",
   "metadata": {},
   "outputs": [],
   "source": []
  }
 ],
 "metadata": {
  "kernelspec": {
   "display_name": "Python 3 (ipykernel)",
   "language": "python",
   "name": "python3"
  },
  "language_info": {
   "codemirror_mode": {
    "name": "ipython",
    "version": 3
   },
   "file_extension": ".py",
   "mimetype": "text/x-python",
   "name": "python",
   "nbconvert_exporter": "python",
   "pygments_lexer": "ipython3",
   "version": "3.9.13"
  }
 },
 "nbformat": 4,
 "nbformat_minor": 5
}
